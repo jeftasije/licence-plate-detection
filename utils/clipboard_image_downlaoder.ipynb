{
 "cells": [
  {
   "cell_type": "code",
   "execution_count": 1,
   "metadata": {},
   "outputs": [],
   "source": [
    "import hashlib\n",
    "import gi\n",
    "gi.require_version('Gtk', '3.0')\n",
    "from gi.repository import Gtk, Gdk\n",
    "\n",
    "output_folder = \"/home/stefan/Documents/PROJEKTI/plate-detection-and-recognition/datasets/train\"\n",
    "i = 0\n",
    "j = 0\n",
    "previous_hash = None"
   ]
  },
  {
   "cell_type": "code",
   "execution_count": 29,
   "metadata": {},
   "outputs": [
    {
     "ename": "KeyboardInterrupt",
     "evalue": "",
     "output_type": "error",
     "traceback": [
      "\u001b[0;31m---------------------------------------------------------------------------\u001b[0m",
      "\u001b[0;31mKeyboardInterrupt\u001b[0m                         Traceback (most recent call last)",
      "\u001b[1;32m/home/stefan/clipboard_image_downlaoder.ipynb Cell 2\u001b[0m line \u001b[0;36m7\n\u001b[1;32m      <a href='vscode-notebook-cell:/home/stefan/clipboard_image_downlaoder.ipynb#W1sZmlsZQ%3D%3D?line=3'>4</a>\u001b[0m clipboard \u001b[39m=\u001b[39m Gtk\u001b[39m.\u001b[39mClipboard\u001b[39m.\u001b[39mget(Gdk\u001b[39m.\u001b[39mSELECTION_CLIPBOARD)\n\u001b[1;32m      <a href='vscode-notebook-cell:/home/stefan/clipboard_image_downlaoder.ipynb#W1sZmlsZQ%3D%3D?line=5'>6</a>\u001b[0m \u001b[39mwhile\u001b[39;00m \u001b[39mTrue\u001b[39;00m:\n\u001b[0;32m----> <a href='vscode-notebook-cell:/home/stefan/clipboard_image_downlaoder.ipynb#W1sZmlsZQ%3D%3D?line=6'>7</a>\u001b[0m     image \u001b[39m=\u001b[39m clipboard\u001b[39m.\u001b[39;49mwait_for_image()\n\u001b[1;32m      <a href='vscode-notebook-cell:/home/stefan/clipboard_image_downlaoder.ipynb#W1sZmlsZQ%3D%3D?line=7'>8</a>\u001b[0m     \u001b[39mif\u001b[39;00m image \u001b[39mis\u001b[39;00m \u001b[39mnot\u001b[39;00m \u001b[39mNone\u001b[39;00m:\n\u001b[1;32m      <a href='vscode-notebook-cell:/home/stefan/clipboard_image_downlaoder.ipynb#W1sZmlsZQ%3D%3D?line=8'>9</a>\u001b[0m         current_hash \u001b[39m=\u001b[39m hashlib\u001b[39m.\u001b[39mmd5(image\u001b[39m.\u001b[39mget_pixels())\u001b[39m.\u001b[39mhexdigest()\n",
      "\u001b[0;31mKeyboardInterrupt\u001b[0m: "
     ]
    }
   ],
   "source": [
    "# For positive images\n",
    "\n",
    "\n",
    "clipboard = Gtk.Clipboard.get(Gdk.SELECTION_CLIPBOARD)\n",
    "\n",
    "while True:\n",
    "    image = clipboard.wait_for_image()\n",
    "    if image is not None:\n",
    "        current_hash = hashlib.md5(image.get_pixels()).hexdigest()\n",
    "\n",
    "        if current_hash != previous_hash:\n",
    "            image.savev(f\"{output_folder}/plate_{i}.png\", \"png\", [], [])\n",
    "            i += 1\n",
    "            previous_hash = current_hash\n",
    "\n"
   ]
  },
  {
   "cell_type": "code",
   "execution_count": 28,
   "metadata": {},
   "outputs": [
    {
     "ename": "KeyboardInterrupt",
     "evalue": "",
     "output_type": "error",
     "traceback": [
      "\u001b[0;31m---------------------------------------------------------------------------\u001b[0m",
      "\u001b[0;31mKeyboardInterrupt\u001b[0m                         Traceback (most recent call last)",
      "\u001b[1;32m/home/stefan/clipboard_image_downlaoder.ipynb Cell 3\u001b[0m line \u001b[0;36m7\n\u001b[1;32m      <a href='vscode-notebook-cell:/home/stefan/clipboard_image_downlaoder.ipynb#W2sZmlsZQ%3D%3D?line=3'>4</a>\u001b[0m clipboard \u001b[39m=\u001b[39m Gtk\u001b[39m.\u001b[39mClipboard\u001b[39m.\u001b[39mget(Gdk\u001b[39m.\u001b[39mSELECTION_CLIPBOARD)\n\u001b[1;32m      <a href='vscode-notebook-cell:/home/stefan/clipboard_image_downlaoder.ipynb#W2sZmlsZQ%3D%3D?line=5'>6</a>\u001b[0m \u001b[39mwhile\u001b[39;00m \u001b[39mTrue\u001b[39;00m:\n\u001b[0;32m----> <a href='vscode-notebook-cell:/home/stefan/clipboard_image_downlaoder.ipynb#W2sZmlsZQ%3D%3D?line=6'>7</a>\u001b[0m     image \u001b[39m=\u001b[39m clipboard\u001b[39m.\u001b[39;49mwait_for_image()\n\u001b[1;32m      <a href='vscode-notebook-cell:/home/stefan/clipboard_image_downlaoder.ipynb#W2sZmlsZQ%3D%3D?line=7'>8</a>\u001b[0m     \u001b[39mif\u001b[39;00m image \u001b[39mis\u001b[39;00m \u001b[39mnot\u001b[39;00m \u001b[39mNone\u001b[39;00m:\n\u001b[1;32m      <a href='vscode-notebook-cell:/home/stefan/clipboard_image_downlaoder.ipynb#W2sZmlsZQ%3D%3D?line=8'>9</a>\u001b[0m         current_hash \u001b[39m=\u001b[39m hashlib\u001b[39m.\u001b[39mmd5(image\u001b[39m.\u001b[39mget_pixels())\u001b[39m.\u001b[39mhexdigest()\n",
      "\u001b[0;31mKeyboardInterrupt\u001b[0m: "
     ]
    }
   ],
   "source": [
    "# For negative images\n",
    "\n",
    "\n",
    "clipboard = Gtk.Clipboard.get(Gdk.SELECTION_CLIPBOARD)\n",
    "\n",
    "while True:\n",
    "    image = clipboard.wait_for_image()\n",
    "    if image is not None:\n",
    "        current_hash = hashlib.md5(image.get_pixels()).hexdigest()\n",
    "\n",
    "        if current_hash != previous_hash:\n",
    "            image.savev(f\"{output_folder}/neg_{j}.png\", \"png\", [], [])\n",
    "            j += 1\n",
    "            previous_hash = current_hash\n",
    "\n"
   ]
  }
 ],
 "metadata": {
  "kernelspec": {
   "display_name": "venv",
   "language": "python",
   "name": "python3"
  },
  "language_info": {
   "codemirror_mode": {
    "name": "ipython",
    "version": 3
   },
   "file_extension": ".py",
   "mimetype": "text/x-python",
   "name": "python",
   "nbconvert_exporter": "python",
   "pygments_lexer": "ipython3",
   "version": "3.10.12"
  }
 },
 "nbformat": 4,
 "nbformat_minor": 2
}
