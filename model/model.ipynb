{
 "cells": [
  {
   "cell_type": "markdown",
   "metadata": {},
   "source": [
    "Plate detection and recognition"
   ]
  },
  {
   "cell_type": "code",
   "execution_count": 1,
   "metadata": {},
   "outputs": [],
   "source": [
    "import os\n",
    "import cv2\n",
    "import numpy as np\n",
    "import matplotlib.pyplot as plt\n",
    "from sklearn.model_selection import train_test_split\n",
    "from sklearn.svm import SVC\n",
    "from sklearn.metrics import accuracy_score\n"
   ]
  },
  {
   "cell_type": "code",
   "execution_count": 2,
   "metadata": {},
   "outputs": [],
   "source": [
    "def load_image(path):\n",
    "    img = cv2.imread(path)\n",
    "    return cv2.cvtColor(img, cv2.COLOR_BGR2GRAY)\n",
    "\n",
    "def show_image(img):\n",
    "    plt.imshow(img, 'gray')"
   ]
  },
  {
   "cell_type": "code",
   "execution_count": 3,
   "metadata": {},
   "outputs": [
    {
     "name": "stdout",
     "output_type": "stream",
     "text": [
      "Prosecna visina: 89.08\n",
      "Prosecna sirina: 287.82\n",
      "Prosecan aspect ratio: 3.25\n"
     ]
    },
    {
     "data": {
      "image/png": "[encoded data removed]",
      "text/plain": [
       "<Figure size 640x480 with 1 Axes>"
      ]
     },
     "metadata": {},
     "output_type": "display_data"
    }
   ],
   "source": [
    "positive_images = []\n",
    "negative_images = []\n",
    "\n",
    "folder_path = '../datasets/train/'\n",
    "\n",
    "aspect_ratios = []\n",
    "widths = []\n",
    "heights = []\n",
    "\n",
    "for img_name in os.listdir(folder_path):\n",
    "    img_path = os.path.join(folder_path, img_name)\n",
    "    img = load_image(img_path)\n",
    "    if 'plate' in img_name:\n",
    "        positive_images.append(img)\n",
    "        width = img.shape[1]\n",
    "        height = img.shape[0]\n",
    "        heights.append(height)\n",
    "        widths.append(width)\n",
    "        aspect_ratios.append(width/height)\n",
    "\n",
    "    elif 'neg' in img_name:\n",
    "        negative_images.append(img)\n",
    "\n",
    "print(f'Prosecna visina: {sum(heights)/len(positive_images):.2f}')\n",
    "print(f'Prosecna sirina: {sum(widths)/len(positive_images):.2f}')\n",
    "avg_aspect_ratio = sum(aspect_ratios) / len(aspect_ratios)\n",
    "print(f'Prosecan aspect ratio: {avg_aspect_ratio:.2f}')\n",
    "plt.scatter(widths, heights)\n",
    "plt.show()\n"
   ]
  },
  {
   "cell_type": "code",
   "execution_count": 4,
   "metadata": {},
   "outputs": [],
   "source": [
    "new_width = 200\n",
    "new_height = int(new_width / avg_aspect_ratio)\n",
    "\n",
    "for i, img in enumerate(positive_images):\n",
    "    positive_images[i] = cv2.resize(img, (new_width, new_height))\n",
    "\n",
    "for i, img in enumerate(negative_images):\n",
    "    negative_images[i] = cv2.resize(img, (new_width, new_height))\n"
   ]
  },
  {
   "cell_type": "code",
   "execution_count": 5,
   "metadata": {},
   "outputs": [],
   "source": [
    "positive_features = []\n",
    "negative_features = []\n",
    "labels = []\n",
    "\n",
    "nbins = 9\n",
    "cell_size = (8, 8)\n",
    "block_size = (3, 3)\n",
    "\n",
    "hog = cv2.HOGDescriptor(_winSize=(new_width // cell_size[1] * cell_size[1], \n",
    "                                  new_height // cell_size[0] * cell_size[0]),\n",
    "                        _blockSize=(block_size[1] * cell_size[1],\n",
    "                                    block_size[0] * cell_size[0]),\n",
    "                        _blockStride=(cell_size[1], cell_size[0]),\n",
    "                        _cellSize=(cell_size[1], cell_size[0]),\n",
    "                        _nbins=nbins)\n",
    "\n",
    "for img in positive_images:\n",
    "    positive_features.append(hog.compute(img))\n",
    "    labels.append(1)\n",
    "\n",
    "for img in negative_images:\n",
    "    negative_features.append(hog.compute(img))\n",
    "    labels.append(0)\n",
    "\n",
    "positive_features = np.array(positive_features)\n",
    "negative_features = np.array(negative_features)\n",
    "x = np.vstack((positive_features, negative_features))\n",
    "y = np.array(labels)"
   ]
  },
  {
   "cell_type": "code",
   "execution_count": 7,
   "metadata": {},
   "outputs": [
    {
     "name": "stdout",
     "output_type": "stream",
     "text": [
      "Train accuracy:1.0\n",
      "Validation accuracy:0.9857142857142858\n"
     ]
    }
   ],
   "source": [
    "x_train, x_val, y_train, y_val = train_test_split(x, y, train_size=0.8, random_state=42)\n",
    "\n",
    "svm = SVC(kernel='linear', probability=True)\n",
    "svm.fit(x_train, y_train)\n",
    "\n",
    "y_train_pred = svm.predict(x_train)\n",
    "y_val_pred = svm.predict(x_val)\n",
    "print(f'Train accuracy:{accuracy_score(y_train, y_train_pred)}')\n",
    "print(f'Validation accuracy:{accuracy_score(y_val, y_val_pred)}')\n"
   ]
  }
 ],
 "metadata": {
  "kernelspec": {
   "display_name": "venv",
   "language": "python",
   "name": "python3"
  },
  "language_info": {
   "codemirror_mode": {
    "name": "ipython",
    "version": 3
   },
   "file_extension": ".py",
   "mimetype": "text/x-python",
   "name": "python",
   "nbconvert_exporter": "python",
   "pygments_lexer": "ipython3",
   "version": "3.10.12"
  }
 },
 "nbformat": 4,
 "nbformat_minor": 2
}
